{
  "nbformat": 4,
  "nbformat_minor": 0,
  "metadata": {
    "colab": {
      "provenance": [],
      "private_outputs": true,
      "gpuType": "T4"
    },
    "kernelspec": {
      "name": "python3",
      "display_name": "Python 3"
    },
    "language_info": {
      "name": "python"
    },
    "gpuClass": "standard"
  },
  "cells": [
    {
      "cell_type": "code",
      "execution_count": null,
      "metadata": {
        "id": "6gvU9CZLeFZj"
      },
      "outputs": [],
      "source": [
        "import shutil\n",
        "import glob"
      ]
    },
    {
      "cell_type": "code",
      "source": [
        "train_dr = '/content/Croneal Ulcer/train' \n",
        "org_dir =  '/content/Croneal Ulcer/train' "
      ],
      "metadata": {
        "id": "l3Cc68Cymuyx"
      },
      "execution_count": null,
      "outputs": []
    },
    {
      "cell_type": "code",
      "source": [
        "train_dr"
      ],
      "metadata": {
        "id": "-hhwRFGJnk3F"
      },
      "execution_count": null,
      "outputs": []
    },
    {
      "cell_type": "code",
      "source": [
        "import tensorflow as tf\n",
        "tf.__version__"
      ],
      "metadata": {
        "id": "qsS47ASQnnAv"
      },
      "execution_count": null,
      "outputs": []
    },
    {
      "cell_type": "code",
      "source": [
        "from tensorflow.keras.models import  Sequential\n",
        "from tensorflow.keras.layers import  Dense, Conv2D, Flatten, Dropout, MaxPooling2D\n",
        "from tensorflow.keras.preprocessing.image import ImageDataGenerator\n",
        "from keras.preprocessing.image import ImageDataGenerator\n",
        "\n",
        "import os\n",
        "import numpy as np\n",
        "import matplotlib.pyplot as plt\n"
      ],
      "metadata": {
        "id": "FVPUO3yysbCS"
      },
      "execution_count": null,
      "outputs": []
    },
    {
      "cell_type": "code",
      "source": [
        "#create images with backgrounds. \n",
        "import plotly.io as pio\n",
        "pio.templates.default = 'plotly_white'"
      ],
      "metadata": {
        "id": "r7Vz7WTAtOzw"
      },
      "execution_count": null,
      "outputs": []
    },
    {
      "cell_type": "code",
      "source": [
        "!pip install -U -q PyDrive\n",
        "from pydrive.auth import GoogleAuth\n",
        "from pydrive.drive import GoogleDrive\n",
        "from google.colab import auth\n",
        "from oauth2client.client import GoogleCredentials"
      ],
      "metadata": {
        "id": "CAvrCl9ZtdGG"
      },
      "execution_count": null,
      "outputs": []
    },
    {
      "cell_type": "code",
      "source": [
        "auth.authenticate_user()\n",
        "gauth = GoogleAuth()\n",
        "gauth.credentials = GoogleCredentials.get_application_default()\n",
        "drive =  GoogleDrive(gauth)"
      ],
      "metadata": {
        "id": "ShtOehzOt3MX"
      },
      "execution_count": null,
      "outputs": []
    },
    {
      "cell_type": "code",
      "source": [
        "fid = drive.ListFile({'q': \"title = 'Eye Disease Deep Learning Dataset (2).zip' \"}).GetList()[0]['id']\n",
        "f = drive.CreateFile({'id': fid})\n",
        "f.GetContentFile('Eye Disease Deep Learning Dataset (2).zip')"
      ],
      "metadata": {
        "id": "rR_zjCQuz6XI"
      },
      "execution_count": null,
      "outputs": []
    },
    {
      "cell_type": "code",
      "source": [
        "!unzip 'Eye Disease Deep Learning Dataset (2).zip'"
      ],
      "metadata": {
        "id": "bJid97NE8yEk"
      },
      "execution_count": null,
      "outputs": []
    },
    {
      "cell_type": "code",
      "source": [
        "#path = '/content/Croneal Ulcer'\n",
        "path = '/content/Eye Disease Deep Learning Dataset'"
      ],
      "metadata": {
        "id": "Apa8c0FluXEv"
      },
      "execution_count": null,
      "outputs": []
    },
    {
      "cell_type": "code",
      "source": [
        "os.listdir(path)"
      ],
      "metadata": {
        "id": "z8p-iJmMvqa1"
      },
      "execution_count": null,
      "outputs": []
    },
    {
      "cell_type": "code",
      "source": [
        "#train_dir = os.path.join(path, '/content/Croneal Ulcer/train ')\n",
        "train_dir = os.path.join(path, 'train')"
      ],
      "metadata": {
        "id": "oT98KTg4vsEA"
      },
      "execution_count": null,
      "outputs": []
    },
    {
      "cell_type": "code",
      "source": [
        "test_dir = os.path.join(path, 'test')"
      ],
      "metadata": {
        "id": "Lts_sMC7v253"
      },
      "execution_count": null,
      "outputs": []
    },
    {
      "cell_type": "code",
      "source": [
        "train_cat_0 = os.path.join(train_dir, '0')\n",
        "train_cat_1 = os.path.join(train_dir, '1')\n",
        "train_cat_2 = os.path.join(train_dir, '2')\n",
        "\n",
        "test_cat_0 = os.path.join(test_dir, '0')\n",
        "test_cat_1 = os.path.join(test_dir, '1')\n",
        "test_cat_2 = os.path.join(test_dir, '2')"
      ],
      "metadata": {
        "id": "rAuDbb6OkWuD"
      },
      "execution_count": null,
      "outputs": []
    },
    {
      "cell_type": "code",
      "source": [
        "print(len(os.listdir(train_dir)))\n",
        "print(len(os.listdir(test_dir)))\n",
        "\n",
        "\n",
        "print(len(os.listdir(train_cat_0)))\n",
        "print(len(os.listdir(train_cat_1)))\n",
        "print(len(os.listdir(train_cat_2)))\n",
        "\n",
        "print(len(os.listdir(test_cat_0)))\n",
        "print(len(os.listdir(test_cat_1)))\n",
        "print(len(os.listdir(test_cat_2)))"
      ],
      "metadata": {
        "id": "UrAI9DIYlAwZ"
      },
      "execution_count": null,
      "outputs": []
    },
    {
      "cell_type": "code",
      "source": [
        "img_height = 1728\n",
        "img_width = 2592\n",
        "batch_size = 32"
      ],
      "metadata": {
        "id": "1Q5YsZ3KxPqz"
      },
      "execution_count": null,
      "outputs": []
    },
    {
      "cell_type": "code",
      "source": [
        "img_gen = ImageDataGenerator(\n",
        "    rescale = 1/255\n",
        ")\n",
        "img_gen"
      ],
      "metadata": {
        "id": "Y_QAHzWQxc7d"
      },
      "execution_count": null,
      "outputs": []
    },
    {
      "cell_type": "markdown",
      "source": [
        "this function will plot images inthe form of a grid with 1 row and 5 coulms where images are placed in each column,"
      ],
      "metadata": {
        "id": "0bSeCOugvmp8"
      }
    },
    {
      "cell_type": "code",
      "source": [
        "train_data_gen = img_gen.flow_from_directory(\n",
        "    directory = train_dir,\n",
        "    shuffle = True,\n",
        "    #traget_size = ('img_height','img_width'),\n",
        "    target_size =(1728, 2592),\n",
        "    class_mode = 'categorical' #  sparse', 'categorical', 'input', None, 'binary\n",
        ")"
      ],
      "metadata": {
        "id": "EJH0HIFXxqF0"
      },
      "execution_count": null,
      "outputs": []
    },
    {
      "cell_type": "code",
      "source": [
        "test_data_gen = img_gen.flow_from_directory(\n",
        "    directory = test_dir,\n",
        "    shuffle = True,\n",
        "    #traget_size = (img_height, img_width),\n",
        "    target_size =(1728, 2592),\n",
        "    class_mode = 'categorical' #  sparse', 'categorical', 'input', None, 'binary\n",
        ")"
      ],
      "metadata": {
        "id": "UpJpXiqpyr-H"
      },
      "execution_count": null,
      "outputs": []
    },
    {
      "cell_type": "code",
      "source": [
        "sample_training_images, _ = next(train_data_gen)"
      ],
      "metadata": {
        "id": "5QvA_eoy1npZ"
      },
      "execution_count": null,
      "outputs": []
    },
    {
      "cell_type": "code",
      "source": [
        "def  plotImages(images_arr):\n",
        "  fig, axes = plt.subplots(1,3, figsize = (20,20))\n",
        "  axes = axes.flatten()\n",
        "  for img, ax in zip( images_arr, axes):\n",
        "    ax.imshow(img)\n",
        "    ax.axis('off')\n",
        "  plt.tight_layout()\n",
        "  plt.show()"
      ],
      "metadata": {
        "id": "n177ycFu1-XI"
      },
      "execution_count": null,
      "outputs": []
    },
    {
      "cell_type": "code",
      "source": [
        "plotImages(sample_training_images[:3])"
      ],
      "metadata": {
        "id": "79eAdwus3aei"
      },
      "execution_count": null,
      "outputs": []
    },
    {
      "cell_type": "code",
      "source": [
        "sample_testing_images, _ = next(test_data_gen)"
      ],
      "metadata": {
        "id": "JKZ5L2sTdxQi"
      },
      "execution_count": null,
      "outputs": []
    },
    {
      "cell_type": "code",
      "source": [
        "plotImages(sample_testing_images[:3])"
      ],
      "metadata": {
        "id": "wx3xQ5ohd-BS"
      },
      "execution_count": null,
      "outputs": []
    },
    {
      "cell_type": "code",
      "source": [
        "model = Sequential([\n",
        "    Conv2D(16, 3, padding = 'same', activation='relu', input_shape=(img_height, img_width, 3)),\n",
        "    MaxPooling2D(),\n",
        "    Dropout(0.2),\n",
        "    Conv2D(32, 3, padding='same', activation='relu'),\n",
        "    MaxPooling2D(),\n",
        "    Conv2D(64, 3, padding='same', activation='relu'),\n",
        "    MaxPooling2D(),\n",
        "    Dropout(0.2),\n",
        "    Conv2D(128, 3, padding='same', activation='relu'),\n",
        "    MaxPooling2D(),\n",
        "    Dropout(0.2),\n",
        "    Conv2D(128, 3, padding='same', activation='relu'),\n",
        "    MaxPooling2D(),\n",
        "    Dropout(0.2),\n",
        "    Flatten(),\n",
        "    Dense(512,activation='relu'),\n",
        "    Dense(3, activation='softmax')\n",
        "])"
      ],
      "metadata": {
        "id": "Xt0S-wQZ3iZ_"
      },
      "execution_count": null,
      "outputs": []
    },
    {
      "cell_type": "code",
      "source": [
        "model.compile(optimizer='adam',\n",
        "              loss='categorical_crossentropy',\n",
        "              metrics=['accuracy'])"
      ],
      "metadata": {
        "id": "q9H85k5nxacb"
      },
      "execution_count": null,
      "outputs": []
    },
    {
      "cell_type": "code",
      "source": [
        "model.summary()"
      ],
      "metadata": {
        "id": "jQys8Zgmxsoo"
      },
      "execution_count": null,
      "outputs": []
    },
    {
      "cell_type": "code",
      "source": [
        "batch_size = 32 #there wiil be 32 images per batch / per cycle of trainning 512/32 = 16 iteration in trainning per batch.\n",
        "epochs =20"
      ],
      "metadata": {
        "id": "AtZA1I1uxu5q"
      },
      "execution_count": null,
      "outputs": []
    },
    {
      "cell_type": "code",
      "source": [
        "num_0_train = len(os.listdir(train_cat_0))\n",
        "num_1_train = len(os.listdir(train_cat_1))\n",
        "num_2_train = len(os.listdir(train_cat_2))\n",
        "\n",
        "num_0_test = len(os.listdir(test_cat_0))\n",
        "num_1_test = len(os.listdir(test_cat_1))\n",
        "num_2_test = len(os.listdir(test_cat_2))\n",
        "\n",
        "total_train = num_0_train + num_1_train + num_2_train\n",
        "total_test = num_0_test + num_1_test + num_2_test\n",
        "\n",
        "print(total_train)\n",
        "print(total_test)"
      ],
      "metadata": {
        "id": "ej3hSpsqx34l"
      },
      "execution_count": null,
      "outputs": []
    },
    {
      "cell_type": "code",
      "source": [
        "\n",
        "#  the model , intended for validation\n",
        "history = model.fit(\n",
        "    train_data_gen,\n",
        "    steps_per_epoch = total_train // 16,\n",
        "    epochs = 20,\n",
        "    validation_data = test_data_gen,\n",
        "    validation_steps = total_test // 16,\n",
        "    callbacks = [ tf.keras.callbacks.EarlyStopping(\n",
        "        monitor = 'val_loss',\n",
        "        min_delta = 0.01,\n",
        "        patience =7)]\n",
        ")\n"
      ],
      "metadata": {
        "id": "6ivmFA8d16Bo"
      },
      "execution_count": null,
      "outputs": []
    },
    {
      "cell_type": "code",
      "source": [
        "import plotly.graph_objects as go\n",
        "fig = go.Figure()\n",
        "\n",
        "fig.add_trace(go.Scatter(x=history.epoch, \n",
        "                         y=history.history['accuracy'],\n",
        "                         mode ='lines + markers',\n",
        "                         name='Training accuracy'\n",
        "                         ))\n",
        "fig.add_trace(go.Scatter(x = history.epoch,\n",
        "                         y = history.history['val_accuracy'],\n",
        "                         mode ='lines + markers',\n",
        "                         name ='Validation accuracy'\n",
        "                         ))\n",
        "fig.update_layout(title='Accuracy',\n",
        "                  xaxis=dict(title='Epoch'),\n",
        "                  yaxis=dict(title='Percentage'))\n",
        "fig.show()"
      ],
      "metadata": {
        "id": "ZqMecHyezpo3"
      },
      "execution_count": null,
      "outputs": []
    },
    {
      "cell_type": "code",
      "source": [
        "save_path = F'/content/drive/MyDrive/Dataset/Classification'"
      ],
      "metadata": {
        "id": "l1ex2cXSq7Q_"
      },
      "execution_count": null,
      "outputs": []
    },
    {
      "cell_type": "code",
      "source": [
        "model.save_weights(os.path.join(save_path, 'Eye Disease Deep Learning Dataset.h5)'))"
      ],
      "metadata": {
        "id": "wrDo3UlerHch"
      },
      "execution_count": null,
      "outputs": []
    },
    {
      "cell_type": "code",
      "source": [
        "model_json = model.to_json()"
      ],
      "metadata": {
        "id": "GpfHzFurrbe_"
      },
      "execution_count": null,
      "outputs": []
    },
    {
      "cell_type": "code",
      "source": [
        "with open(os.path.join(save_path, 'Eye Disease Deep Learning Dataset.json'), 'w') as json_file:\n",
        "  json_file.write(model_json)"
      ],
      "metadata": {
        "id": "V2FedjWnrgPY"
      },
      "execution_count": null,
      "outputs": []
    },
    {
      "cell_type": "code",
      "source": [
        "json_file.close()"
      ],
      "metadata": {
        "id": "EKdWWzfgsIIp"
      },
      "execution_count": null,
      "outputs": []
    },
    {
      "cell_type": "code",
      "source": [
        "from skimage.transform import resize #resize image "
      ],
      "metadata": {
        "id": "7eMqqyldsLv4"
      },
      "execution_count": null,
      "outputs": []
    },
    {
      "cell_type": "code",
      "source": [
        "my_image = plt.imread(\"/content/Eye Disease Deep Learning Dataset/train/0/1.jpg\")\n",
        "\n",
        "#resize the image to fit model \n",
        "#model image size = 32*32*3\n",
        "my_image_resized = resize(my_image, (1728, 2592,3)) # already makes values between 0-1\n",
        "#visualize the image \n",
        "img = plt.imshow(my_image) #will only show one \n"
      ],
      "metadata": {
        "id": "so6biuDIsSFK"
      },
      "execution_count": null,
      "outputs": []
    },
    {
      "cell_type": "code",
      "source": [
        "probabilities = model.predict(np.array([my_image_resized]))"
      ],
      "metadata": {
        "id": "gfCqQxSPtYXB"
      },
      "execution_count": null,
      "outputs": []
    },
    {
      "cell_type": "code",
      "source": [
        "number=['0',\\\n",
        "        '1',\\\n",
        "        '2',]"
      ],
      "metadata": {
        "id": "D0Lm3AiX3SZ1"
      },
      "execution_count": null,
      "outputs": []
    },
    {
      "cell_type": "code",
      "source": [
        "#prediction analysing \n",
        "index = np.argsort(probabilities[0,:])\n",
        "print(\"1st Most likely class:\", number[index[2]], \"-- Probability:\", probabilities[0, index[2] ] )\n",
        "print(\"2nd Most likely class:\", number[index[1]], \"-- Probability:\", probabilities[0, index[1] ] )\n",
        "print(\"3rd Most likely class:\", number[index[0]], \"-- Probability:\", probabilities[0, index[0] ] )"
      ],
      "metadata": {
        "id": "D0eO4WF83tnu"
      },
      "execution_count": null,
      "outputs": []
    }
  ]
}